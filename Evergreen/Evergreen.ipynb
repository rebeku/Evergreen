{
 "cells": [
  {
   "cell_type": "code",
   "execution_count": 35,
   "metadata": {
    "collapsed": false
   },
   "outputs": [],
   "source": [
    "import pandas as pd\n",
    "import numpy as np\n",
    "from sklearn.cross_validation import train_test_split\n",
    "from sklearn.feature_selection import SelectKBest\n",
    "from sklearn.feature_selection import f_classif\n",
    "from sklearn.preprocessing import StandardScaler\n",
    "from sklearn.linear_model import LogisticRegression\n",
    "from sklearn.grid_search import GridSearchCV\n",
    "from sklearn.ensemble import RandomForestClassifier, ExtraTreesClassifier, AdaBoostClassifier\n",
    "from sklearn.tree import DecisionTreeClassifier\n",
    "from sklearn.pipeline import make_pipeline, Pipeline\n",
    "from sklearn.neighbors import KNeighborsClassifier\n",
    "from sklearn.svm import SVC\n",
    "from sklearn.pipeline import make_pipeline, Pipeline\n",
    "from sklearn.feature_extraction.text import CountVectorizer, TfidfVectorizer\n",
    "from sklearn.naive_bayes import MultinomialNB\n",
    "from sklearn.cross_validation import cross_val_score\n",
    "from textblob import TextBlob\n",
    "from sklearn.base import BaseEstimator, TransformerMixin\n",
    "from sklearn.ensemble import VotingClassifier\n",
    "import scipy\n",
    "import json\n",
    "from sklearn import metrics"
   ]
  },
  {
   "cell_type": "code",
   "execution_count": 2,
   "metadata": {
    "collapsed": true
   },
   "outputs": [],
   "source": [
    "ev = pd.read_csv('../dataset/evergreen.tsv', delimiter='\\t')"
   ]
  },
  {
   "cell_type": "code",
   "execution_count": 3,
   "metadata": {
    "collapsed": false
   },
   "outputs": [
    {
     "data": {
      "text/plain": [
       "(7395, 27)"
      ]
     },
     "execution_count": 3,
     "metadata": {},
     "output_type": "execute_result"
    }
   ],
   "source": [
    "ev.shape"
   ]
  },
  {
   "cell_type": "code",
   "execution_count": 4,
   "metadata": {
    "collapsed": true
   },
   "outputs": [],
   "source": [
    "# Get dummies for alchemy_category_score prior to train test split so dummies will be consistent\n",
    "\n",
    "ev.alchemy_category = ev.alchemy_category.replace('unknown', '?')\n",
    "dummies = pd.get_dummies(ev.alchemy_category)\n",
    "dummies = dummies.drop('?', axis=1)\n",
    "ev = ev.drop('alchemy_category', axis=1)\n",
    "ev = pd.concat([ev, dummies], axis=1)"
   ]
  },
  {
   "cell_type": "code",
   "execution_count": 5,
   "metadata": {
    "collapsed": false
   },
   "outputs": [
    {
     "data": {
      "text/plain": [
       "(7395, 38)"
      ]
     },
     "execution_count": 5,
     "metadata": {},
     "output_type": "execute_result"
    }
   ],
   "source": [
    "ev.shape"
   ]
  },
  {
   "cell_type": "code",
   "execution_count": 6,
   "metadata": {
    "collapsed": true
   },
   "outputs": [],
   "source": [
    "# Perform train-test split\n",
    "X_train, X_test, y_train, y_test = train_test_split(ev.drop('label', axis=1), ev.label, random_state=14)\n",
    "# Clean and scale X_train and X_test SAVING ORIGINALS INTACT FOR TEXT CLASSIFIERS"
   ]
  },
  {
   "cell_type": "code",
   "execution_count": 7,
   "metadata": {
    "collapsed": true
   },
   "outputs": [],
   "source": [
    "def cleanup(ev):\n",
    "    # convert alchemy_category_score to float64, replacing '?' with 0\n",
    "    ev.alchemy_category_score = ev.alchemy_category_score.replace('?', '0')\n",
    "    ev.alchemy_category_score = ev.alchemy_category_score.apply(lambda x: float(x))\n",
    "    # replace'?' in all of ev with 0\n",
    "    ev = ev.replace('?', 0)\n",
    "    # do not include commonlinkratio_1.  its coefficient on logistic regression is 0\n",
    "    # do not include framebased.  It's all 0\n",
    "    # url, urlid, and boilerplate are text\n",
    "    ev = ev.drop(['url', 'urlid', 'boilerplate', 'commonlinkratio_1', 'framebased'], axis=1)\n",
    "    # All features are now numerical\n",
    "    ev = StandardScaler().fit_transform(ev)\n",
    "    return ev"
   ]
  },
  {
   "cell_type": "code",
   "execution_count": 8,
   "metadata": {
    "collapsed": false
   },
   "outputs": [],
   "source": [
    "X_train_clean = cleanup(X_train)\n",
    "X_test_clean = cleanup(X_test)"
   ]
  },
  {
   "cell_type": "markdown",
   "metadata": {},
   "source": [
    "## Build logistic regression model"
   ]
  },
  {
   "cell_type": "code",
   "execution_count": 9,
   "metadata": {
    "collapsed": false
   },
   "outputs": [
    {
     "name": "stdout",
     "output_type": "stream",
     "text": [
      "LogisticRegression(C=0.5, class_weight=None, dual=False, fit_intercept=True,\n",
      "          intercept_scaling=1, max_iter=100, multi_class='ovr', n_jobs=1,\n",
      "          penalty='l2', random_state=None, solver='liblinear', tol=0.0001,\n",
      "          verbose=0, warm_start=False)\n",
      "{'penalty': 'l2', 'C': 0.5}\n",
      "0.73092406769\n"
     ]
    }
   ],
   "source": [
    "param_grid = dict(penalty=['l1','l2'], C =[.1, .5,1,2,5,10])\n",
    "\n",
    "# Optimize for roc_auc since that is what kaggle asked for\n",
    "cv = GridSearchCV(LogisticRegression(), param_grid, scoring = 'roc_auc', cv=20)\n",
    "\n",
    "cv.fit(X_train_clean, y_train)\n",
    "\n",
    "print cv.best_estimator_\n",
    "print cv.best_params_\n",
    "print cv.best_score_"
   ]
  },
  {
   "cell_type": "markdown",
   "metadata": {},
   "source": [
    "## Build random forest classifier"
   ]
  },
  {
   "cell_type": "code",
   "execution_count": 10,
   "metadata": {
    "collapsed": false
   },
   "outputs": [
    {
     "name": "stdout",
     "output_type": "stream",
     "text": [
      "RandomForestClassifier(bootstrap=True, class_weight=None, criterion='gini',\n",
      "            max_depth=None, max_features='auto', max_leaf_nodes=None,\n",
      "            min_samples_leaf=5, min_samples_split=20,\n",
      "            min_weight_fraction_leaf=0.0, n_estimators=100, n_jobs=1,\n",
      "            oob_score=False, random_state=None, verbose=0,\n",
      "            warm_start=False)\n",
      "{'min_samples_split': 20, 'n_estimators': 100, 'min_samples_leaf': 5}\n",
      "0.776361363258\n"
     ]
    }
   ],
   "source": [
    "param_grid = dict(n_estimators=[20,50,100], min_samples_leaf=[1,5, 8, 10, 20], min_samples_split=[2,5,10,20])\n",
    "\n",
    "# Make cv smaller since rfc is slower\n",
    "cv = GridSearchCV(RandomForestClassifier(), param_grid, scoring='roc_auc', cv=10)\n",
    "\n",
    "cv.fit(X_train_clean, y_train)\n",
    "\n",
    "print cv.best_estimator_\n",
    "print cv.best_params_\n",
    "print cv.best_score_"
   ]
  },
  {
   "cell_type": "markdown",
   "metadata": {},
   "source": [
    "## Build ExtraTreesClassifier"
   ]
  },
  {
   "cell_type": "code",
   "execution_count": 11,
   "metadata": {
    "collapsed": false
   },
   "outputs": [
    {
     "name": "stdout",
     "output_type": "stream",
     "text": [
      "ExtraTreesClassifier(bootstrap=False, class_weight=None, criterion='gini',\n",
      "           max_depth=None, max_features='auto', max_leaf_nodes=None,\n",
      "           min_samples_leaf=3, min_samples_split=2,\n",
      "           min_weight_fraction_leaf=0.0, n_estimators=100, n_jobs=1,\n",
      "           oob_score=False, random_state=None, verbose=0, warm_start=False)\n",
      "{'n_estimators': 100, 'min_samples_leaf': 3}\n",
      "0.761771733749\n"
     ]
    }
   ],
   "source": [
    "param_grid = dict(n_estimators=[10, 20,50, 100], min_samples_leaf=(1, 3, 5, 8, 10))\n",
    "\n",
    "cv = GridSearchCV(ExtraTreesClassifier(), param_grid, scoring='roc_auc', cv=5)\n",
    "cv.fit(X_train_clean, y_train)\n",
    "\n",
    "print cv.best_estimator_\n",
    "print cv.best_params_\n",
    "print cv.best_score_"
   ]
  },
  {
   "cell_type": "markdown",
   "metadata": {},
   "source": [
    "## Build Decision Tree Classifier with AdaBoost"
   ]
  },
  {
   "cell_type": "code",
   "execution_count": 12,
   "metadata": {
    "collapsed": false
   },
   "outputs": [
    {
     "name": "stdout",
     "output_type": "stream",
     "text": [
      "DecisionTreeClassifier(class_weight=None, criterion='gini', max_depth=10,\n",
      "            max_features=None, max_leaf_nodes=None, min_samples_leaf=10,\n",
      "            min_samples_split=2, min_weight_fraction_leaf=0.0,\n",
      "            presort=False, random_state=None, splitter='best')\n",
      "{'criterion': 'gini', 'max_depth': 10, 'min_samples_leaf': 10}\n",
      "0.695406671224\n"
     ]
    }
   ],
   "source": [
    "# First refine decision tree classifier\n",
    "\n",
    "dt = DecisionTreeClassifier()\n",
    "\n",
    "param_grid = dict(criterion=['gini', 'entropy'] , min_samples_leaf=(1, 3, 5, 8, 10), max_depth=[3,5,10,None])\n",
    "\n",
    "cv = GridSearchCV(dt, param_grid, scoring='roc_auc', cv=20)\n",
    "cv.fit(X_train_clean, y_train)\n",
    "\n",
    "print cv.best_estimator_\n",
    "print cv.best_params_\n",
    "print cv.best_score_"
   ]
  },
  {
   "cell_type": "code",
   "execution_count": 13,
   "metadata": {
    "collapsed": false
   },
   "outputs": [
    {
     "name": "stdout",
     "output_type": "stream",
     "text": [
      "AdaBoostClassifier(algorithm='SAMME.R',\n",
      "          base_estimator=DecisionTreeClassifier(class_weight=None, criterion='gini', max_depth=10,\n",
      "            max_features=None, max_leaf_nodes=None, min_samples_leaf=10,\n",
      "            min_samples_split=2, min_weight_fraction_leaf=0.0,\n",
      "            presort=False, random_state=None, splitter='best'),\n",
      "          learning_rate=1, n_estimators=100, random_state=None)\n",
      "{'n_estimators': 100, 'learning_rate': 1}\n",
      "0.724140151344\n"
     ]
    }
   ],
   "source": [
    "dt = cv.best_estimator_    #defined above for decision tree classifier\n",
    "\n",
    "bdt = AdaBoostClassifier(dt)\n",
    "\n",
    "param_grid = dict(n_estimators=[10,20,50,100] , learning_rate=[1,1.5,3])\n",
    "\n",
    "cv = GridSearchCV(bdt, param_grid, scoring='roc_auc', cv=5)\n",
    "cv.fit(X_train_clean, y_train)\n",
    "\n",
    "print cv.best_estimator_\n",
    "print cv.best_params_\n",
    "print cv.best_score_"
   ]
  },
  {
   "cell_type": "markdown",
   "metadata": {},
   "source": [
    "## Build SVM"
   ]
  },
  {
   "cell_type": "code",
   "execution_count": 17,
   "metadata": {
    "collapsed": false
   },
   "outputs": [
    {
     "name": "stderr",
     "output_type": "stream",
     "text": [
      "//anaconda/lib/python2.7/site-packages/sklearn/svm/base.py:224: ConvergenceWarning: Solver terminated early (max_iter=5000).  Consider pre-processing your data with StandardScaler or MinMaxScaler.\n",
      "  % self.max_iter, ConvergenceWarning)\n"
     ]
    },
    {
     "name": "stdout",
     "output_type": "stream",
     "text": [
      "SVC(C=3, cache_size=200, class_weight=None, coef0=0.0,\n",
      "  decision_function_shape=None, degree=3, gamma='auto', kernel='rbf',\n",
      "  max_iter=5000, probability=False, random_state=None, shrinking=True,\n",
      "  tol=0.001, verbose=False)\n",
      "0.749739231383\n"
     ]
    }
   ],
   "source": [
    "param_grid = dict(C=[1,1.5,3], kernel=['linear', 'rbf'])\n",
    "\n",
    "# Keep cv at 3\n",
    "cv = GridSearchCV(SVC(max_iter=5000), param_grid, scoring='roc_auc')\n",
    "cv.fit(X_train_clean, y_train)\n",
    "\n",
    "print cv.best_estimator_ \n",
    "print cv.best_score_"
   ]
  },
  {
   "cell_type": "markdown",
   "metadata": {},
   "source": [
    "## Build K-NN Classifier"
   ]
  },
  {
   "cell_type": "code",
   "execution_count": 12,
   "metadata": {
    "collapsed": false
   },
   "outputs": [
    {
     "name": "stdout",
     "output_type": "stream",
     "text": [
      "KNeighborsClassifier(algorithm='auto', leaf_size=30, metric='minkowski',\n",
      "           metric_params=None, n_jobs=1, n_neighbors=10, p=2,\n",
      "           weights='uniform')\n",
      "{'n_neighbors': 10}\n",
      "0.657410746484\n"
     ]
    }
   ],
   "source": [
    "param_grid = dict(n_neighbors = [1,5,10, 50])\n",
    "\n",
    "cv = GridSearchCV(KNeighborsClassifier(), param_grid, cv=3)\n",
    "cv.fit(X_train_clean, y_train)\n",
    "\n",
    "print cv.best_estimator_\n",
    "print cv.best_params_\n",
    "print cv.best_score_"
   ]
  },
  {
   "cell_type": "markdown",
   "metadata": {},
   "source": [
    "RFC is the best so far."
   ]
  },
  {
   "cell_type": "markdown",
   "metadata": {},
   "source": [
    "## Perform PCA and redo greatest hits from above"
   ]
  },
  {
   "cell_type": "code",
   "execution_count": 13,
   "metadata": {
    "collapsed": false
   },
   "outputs": [],
   "source": [
    "corr = pd.DataFrame(X_train_clean).corr()\n",
    "\n",
    "# find high correlations only\n",
    "def find_big(x):\n",
    "    if x <=.7:\n",
    "        return 0\n",
    "    else: return x\n",
    "\n",
    "for feature in corr.columns:\n",
    "    corr[feature] = corr[feature].apply(find_big)"
   ]
  },
  {
   "cell_type": "code",
   "execution_count": 14,
   "metadata": {
    "collapsed": false
   },
   "outputs": [
    {
     "name": "stdout",
     "output_type": "stream",
     "text": [
      "(5546, 32)\n",
      "(5546, 31)\n"
     ]
    }
   ],
   "source": [
    "# commonlinkratios  2, 3, 4 are correlated (1 is excluded already)\n",
    "# drop ratio 3.  correlations between ratios 2 and 4 is just .55, which is ok\n",
    "\n",
    "print X_train_clean.shape\n",
    "X_train_clean = scipy.delete(X_train_clean, 3, 1)\n",
    "print X_train_clean.shape"
   ]
  },
  {
   "cell_type": "code",
   "execution_count": 15,
   "metadata": {
    "collapsed": false
   },
   "outputs": [
    {
     "name": "stdout",
     "output_type": "stream",
     "text": [
      "[ 0.09380469  0.07360634  0.05635803  0.04789645  0.04401961  0.04087237\n",
      "  0.0376342   0.03671227  0.03623273  0.034714    0.03415601  0.03368696\n",
      "  0.03343293  0.0327352   0.03247744  0.03218671  0.03207985  0.030875\n",
      "  0.03028984  0.02854762  0.02648424  0.02423231  0.02246269  0.0217596\n",
      "  0.02077486  0.01798296  0.01604891  0.0126124   0.00949318  0.00361462\n",
      "  0.00221596]\n"
     ]
    }
   ],
   "source": [
    "from sklearn.decomposition import PCA\n",
    "pca = PCA()\n",
    "pca.fit(X_train_clean)\n",
    "print(pca.explained_variance_ratio_) "
   ]
  },
  {
   "cell_type": "code",
   "execution_count": 16,
   "metadata": {
    "collapsed": true
   },
   "outputs": [],
   "source": [
    "cumulvarExpl = np.cumsum(pca.explained_variance_ratio_)"
   ]
  },
  {
   "cell_type": "code",
   "execution_count": 17,
   "metadata": {
    "collapsed": false
   },
   "outputs": [
    {
     "data": {
      "text/plain": [
       "<matplotlib.text.Text at 0x11d770590>"
      ]
     },
     "execution_count": 17,
     "metadata": {},
     "output_type": "execute_result"
    },
    {
     "data": {
      "image/png": "[encoded data removed]",
      "text/plain": [
       "<matplotlib.figure.Figure at 0x11d240590>"
      ]
     },
     "metadata": {},
     "output_type": "display_data"
    }
   ],
   "source": [
    "from matplotlib import pyplot as plt\n",
    "%matplotlib inline\n",
    "\n",
    "fig = plt.figure(figsize=(8,5))\n",
    "sing_vals = np.arange(31) + 1\n",
    "plt.plot(sing_vals, cumulvarExpl, 'ro-', linewidth=2)\n",
    "plt.title('Scree Plot')\n",
    "plt.xlabel('Principal Component')\n",
    "plt.ylabel('Eigenvalue')"
   ]
  },
  {
   "cell_type": "code",
   "execution_count": 18,
   "metadata": {
    "collapsed": false
   },
   "outputs": [],
   "source": [
    "# Uh, this line doesn't really 'bend'\n",
    "# bad sign?\n",
    "# Let's do the first 29 components\n",
    "\n",
    "pca = PCA(n_components=29)\n",
    "X_train_pca = pca.fit_transform(X_train_clean)"
   ]
  },
  {
   "cell_type": "markdown",
   "metadata": {},
   "source": [
    "## Redo models on X_train_pca"
   ]
  },
  {
   "cell_type": "code",
   "execution_count": 19,
   "metadata": {
    "collapsed": false
   },
   "outputs": [
    {
     "name": "stdout",
     "output_type": "stream",
     "text": [
      "RandomForestClassifier(bootstrap=True, class_weight=None, criterion='gini',\n",
      "            max_depth=None, max_features='auto', max_leaf_nodes=None,\n",
      "            min_samples_leaf=1, min_samples_split=20,\n",
      "            min_weight_fraction_leaf=0.0, n_estimators=100, n_jobs=1,\n",
      "            oob_score=False, random_state=None, verbose=0,\n",
      "            warm_start=False)\n",
      "{'min_samples_split': 20}\n",
      "0.745034926363\n"
     ]
    }
   ],
   "source": [
    "# Random forest\n",
    "\n",
    "param_grid = dict(min_samples_split=[2,5,10,20,50])\n",
    "rfc = RandomForestClassifier(n_estimators=100)\n",
    "\n",
    "cv = GridSearchCV(rfc, param_grid, scoring='roc_auc')\n",
    "\n",
    "cv.fit(X_train_pca, y_train)\n",
    "\n",
    "print cv.best_estimator_\n",
    "print cv.best_params_\n",
    "print cv.best_score_"
   ]
  },
  {
   "cell_type": "code",
   "execution_count": 20,
   "metadata": {
    "collapsed": false
   },
   "outputs": [
    {
     "name": "stdout",
     "output_type": "stream",
     "text": [
      "ExtraTreesClassifier(bootstrap=False, class_weight=None, criterion='gini',\n",
      "           max_depth=None, max_features='auto', max_leaf_nodes=None,\n",
      "           min_samples_leaf=1, min_samples_split=2,\n",
      "           min_weight_fraction_leaf=0.0, n_estimators=100, n_jobs=1,\n",
      "           oob_score=False, random_state=None, verbose=0, warm_start=False)\n",
      "{'min_samples_leaf': 1}\n",
      "0.761546537697\n"
     ]
    }
   ],
   "source": [
    "# ExtraTrees\n",
    "\n",
    "param_grid = dict(min_samples_leaf=(1, 3, 5, 8, 10))\n",
    "\n",
    "cv = GridSearchCV(ExtraTreesClassifier(n_estimators=100), param_grid, scoring='roc_auc', cv=5)\n",
    "cv.fit(X_train_clean, y_train)\n",
    "\n",
    "print cv.best_estimator_\n",
    "print cv.best_params_\n",
    "print cv.best_score_"
   ]
  },
  {
   "cell_type": "code",
   "execution_count": 21,
   "metadata": {
    "collapsed": false
   },
   "outputs": [
    {
     "name": "stdout",
     "output_type": "stream",
     "text": [
      "SVC(C=3, cache_size=200, class_weight=None, coef0=0.0,\n",
      "  decision_function_shape=None, degree=3, gamma='auto', kernel='rbf',\n",
      "  max_iter=-1, probability=False, random_state=None, shrinking=True,\n",
      "  tol=0.001, verbose=False)\n",
      "{'kernel': 'rbf', 'C': 3}\n",
      "0.746156060494\n"
     ]
    }
   ],
   "source": [
    "param_grid = dict(C=[1,1.5,3], kernel=['linear', 'rbf'])\n",
    "\n",
    "# This one is slow.\n",
    "# Keep cv at 3\n",
    "cv = GridSearchCV(SVC(), param_grid, scoring='roc_auc')\n",
    "cv.fit(X_train_clean, y_train)\n",
    "\n",
    "print cv.best_estimator_ \n",
    "print cv.best_params_\n",
    "print cv.best_score_"
   ]
  },
  {
   "cell_type": "markdown",
   "metadata": {},
   "source": [
    "Pca makes models slightly worse.\n",
    "\n",
    "## Explore Feature Selection\n",
    "\n",
    "### Start with SelectKbest and RFC"
   ]
  },
  {
   "cell_type": "code",
   "execution_count": 46,
   "metadata": {
    "collapsed": false
   },
   "outputs": [],
   "source": [
    "## Try other feature selection here\n",
    "## How many features should I select?\n",
    "\n",
    "SKB = SelectKBest(f_classif, k=31).fit(X_train_clean, y_train)"
   ]
  },
  {
   "cell_type": "code",
   "execution_count": 52,
   "metadata": {
    "collapsed": false
   },
   "outputs": [],
   "source": [
    "f_scores = SKB.scores_"
   ]
  },
  {
   "cell_type": "code",
   "execution_count": 63,
   "metadata": {
    "collapsed": false
   },
   "outputs": [],
   "source": [
    "f_scores = np.sort(f_scores)\n",
    "f_scores = f_scores[::-1]"
   ]
  },
  {
   "cell_type": "code",
   "execution_count": 65,
   "metadata": {
    "collapsed": false
   },
   "outputs": [
    {
     "data": {
      "text/plain": [
       "<matplotlib.text.Text at 0x1251be810>"
      ]
     },
     "execution_count": 65,
     "metadata": {},
     "output_type": "execute_result"
    },
    {
     "data": {
      "image/png": "[encoded data removed]",
      "text/plain": [
       "<matplotlib.figure.Figure at 0x115feb390>"
      ]
     },
     "metadata": {},
     "output_type": "display_data"
    }
   ],
   "source": [
    "fig = plt.figure(figsize=(8,5))\n",
    "sing_vals = np.arange(31) + 1\n",
    "plt.plot(sing_vals, f_scores, 'ro-', linewidth=2)\n",
    "plt.title('Feature Selection')\n",
    "plt.xlabel('Nth Feature')\n",
    "plt.ylabel('Anova F-Score')"
   ]
  },
  {
   "cell_type": "code",
   "execution_count": 66,
   "metadata": {
    "collapsed": true
   },
   "outputs": [],
   "source": [
    "# Select 14 best features.\n",
    "\n",
    "SKB = SelectKBest(f_classif, k=14).fit(X_train_clean, y_train)\n",
    "X_new = SKB.transform(X_train_clean)"
   ]
  },
  {
   "cell_type": "code",
   "execution_count": 68,
   "metadata": {
    "collapsed": false
   },
   "outputs": [
    {
     "data": {
      "text/plain": [
       "(5546, 14)"
      ]
     },
     "execution_count": 68,
     "metadata": {},
     "output_type": "execute_result"
    }
   ],
   "source": [
    "X_new.shape"
   ]
  },
  {
   "cell_type": "markdown",
   "metadata": {},
   "source": [
    "### RFC on best 14 features"
   ]
  },
  {
   "cell_type": "code",
   "execution_count": 69,
   "metadata": {
    "collapsed": false
   },
   "outputs": [
    {
     "name": "stdout",
     "output_type": "stream",
     "text": [
      "RandomForestClassifier(bootstrap=True, class_weight=None, criterion='gini',\n",
      "            max_depth=None, max_features='auto', max_leaf_nodes=None,\n",
      "            min_samples_leaf=1, min_samples_split=20,\n",
      "            min_weight_fraction_leaf=0.0, n_estimators=100, n_jobs=1,\n",
      "            oob_score=False, random_state=None, verbose=0,\n",
      "            warm_start=False)\n",
      "{'min_samples_split': 20}\n",
      "0.752203576384\n"
     ]
    }
   ],
   "source": [
    "# Random forest\n",
    "\n",
    "param_grid = dict(min_samples_split=[2,5,10,20,50])\n",
    "rfc = RandomForestClassifier(n_estimators=100)\n",
    "\n",
    "cv = GridSearchCV(rfc, param_grid, scoring='roc_auc')\n",
    "\n",
    "cv.fit(X_new, y_train)\n",
    "\n",
    "print cv.best_estimator_\n",
    "print cv.best_params_\n",
    "print cv.best_score_"
   ]
  },
  {
   "cell_type": "markdown",
   "metadata": {},
   "source": [
    "RFC is slightly worse\n",
    "But feature selection is more important on parametric models\n",
    "\n",
    "### Logistic Regression on 14 best features"
   ]
  },
  {
   "cell_type": "code",
   "execution_count": 70,
   "metadata": {
    "collapsed": false
   },
   "outputs": [
    {
     "name": "stdout",
     "output_type": "stream",
     "text": [
      "LogisticRegression(C=0.1, class_weight=None, dual=False, fit_intercept=True,\n",
      "          intercept_scaling=1, max_iter=100, multi_class='ovr', n_jobs=1,\n",
      "          penalty='l1', random_state=None, solver='liblinear', tol=0.0001,\n",
      "          verbose=0, warm_start=False)\n",
      "{'penalty': 'l1', 'C': 0.1}\n",
      "0.729325611101\n"
     ]
    }
   ],
   "source": [
    "param_grid = dict(penalty=['l1','l2'], C =[.1, .5,1,2,5,10])\n",
    "\n",
    "# Optimize for roc_auc since that is what kaggle asked for\n",
    "cv = GridSearchCV(LogisticRegression(), param_grid, scoring = 'roc_auc', cv=20)\n",
    "\n",
    "cv.fit(X_train_clean, y_train)\n",
    "\n",
    "print cv.best_estimator_\n",
    "print cv.best_params_\n",
    "print cv.best_score_"
   ]
  },
  {
   "cell_type": "code",
   "execution_count": 74,
   "metadata": {
    "collapsed": false
   },
   "outputs": [
    {
     "name": "stderr",
     "output_type": "stream",
     "text": [
      "//anaconda/lib/python2.7/site-packages/sklearn/svm/base.py:224: ConvergenceWarning: Solver terminated early (max_iter=3000).  Consider pre-processing your data with StandardScaler or MinMaxScaler.\n",
      "  % self.max_iter, ConvergenceWarning)\n"
     ]
    },
    {
     "name": "stdout",
     "output_type": "stream",
     "text": [
      "SVC(C=3, cache_size=200, class_weight=None, coef0=0.0,\n",
      "  decision_function_shape=None, degree=3, gamma='auto', kernel='rbf',\n",
      "  max_iter=3000, probability=False, random_state=None, shrinking=True,\n",
      "  tol=0.001, verbose=False)\n",
      "{'kernel': 'rbf', 'C': 3}\n",
      "0.746091971202\n"
     ]
    }
   ],
   "source": [
    "### SVM on 14 best features\n",
    "\n",
    "param_grid = dict(C=[1,1.5,3], kernel=['linear', 'rbf'])\n",
    "\n",
    "# This one is slow.\n",
    "# Keep cv at 3\n",
    "cv = GridSearchCV(SVC(max_iter=3000), param_grid, scoring='roc_auc')\n",
    "cv.fit(X_train_clean, y_train)\n",
    "\n",
    "print cv.best_estimator_ \n",
    "print cv.best_params_\n",
    "print cv.best_score_"
   ]
  },
  {
   "cell_type": "markdown",
   "metadata": {},
   "source": [
    "Once again, this model is slightly worse than one built on all features.\n",
    "\n",
    "### Before we give up on feature selection, let's use a random forest to select the best features"
   ]
  },
  {
   "cell_type": "code",
   "execution_count": 75,
   "metadata": {
    "collapsed": true
   },
   "outputs": [],
   "source": [
    "# This was our best model from the grid searches above\n",
    "rfc = RandomForestClassifier(min_samples_split=5, n_estimators=100).fit(X_train_clean, y_train)"
   ]
  },
  {
   "cell_type": "code",
   "execution_count": 80,
   "metadata": {
    "collapsed": false
   },
   "outputs": [],
   "source": [
    "f_imps = np.sort(rfc.feature_importances_)[::-1]"
   ]
  },
  {
   "cell_type": "code",
   "execution_count": 81,
   "metadata": {
    "collapsed": false
   },
   "outputs": [
    {
     "data": {
      "text/plain": [
       "<matplotlib.text.Text at 0x1251bec90>"
      ]
     },
     "execution_count": 81,
     "metadata": {},
     "output_type": "execute_result"
    },
    {
     "data": {
      "image/png": "[encoded data removed]",
      "text/plain": [
       "<matplotlib.figure.Figure at 0x1233493d0>"
      ]
     },
     "metadata": {},
     "output_type": "display_data"
    }
   ],
   "source": [
    "fig = plt.figure(figsize=(8,5))\n",
    "sing_vals = np.arange(31) + 1\n",
    "plt.plot(sing_vals, f_imps, 'ro-', linewidth=2)\n",
    "plt.title('Feature Selection')\n",
    "plt.xlabel('Nth Feature')\n",
    "plt.ylabel('RFC Feature Importance')"
   ]
  },
  {
   "cell_type": "markdown",
   "metadata": {},
   "source": [
    "Once again, we see a sharp drop in feature importance after the top 14.  However, let's try a few more features to see if we can improve our models over the ones built on the SelectKBest top 14 above (I have a hunch these may be the same 14 features).\n",
    "\n",
    "Save top 19 features from RFC"
   ]
  },
  {
   "cell_type": "code",
   "execution_count": 104,
   "metadata": {
    "collapsed": false
   },
   "outputs": [
    {
     "data": {
      "text/plain": [
       "0.0093795455264312055"
      ]
     },
     "execution_count": 104,
     "metadata": {},
     "output_type": "execute_result"
    }
   ],
   "source": [
    "f_imps[18]\n",
    "\n",
    "# Cutoff value is 8.43592326e-03"
   ]
  },
  {
   "cell_type": "code",
   "execution_count": 105,
   "metadata": {
    "collapsed": false
   },
   "outputs": [],
   "source": [
    "# Identify top 19 features in X_train_clean\n",
    "\n",
    "# Create mask for X_train clean from feature importances\n",
    "\n",
    "mask = np.where(rfc.feature_importances_>=.009375)"
   ]
  },
  {
   "cell_type": "code",
   "execution_count": 109,
   "metadata": {
    "collapsed": false
   },
   "outputs": [
    {
     "data": {
      "text/plain": [
       "(5546, 19)"
      ]
     },
     "execution_count": 109,
     "metadata": {},
     "output_type": "execute_result"
    }
   ],
   "source": [
    "X_new2 = X_train_clean.T[mask].T\n",
    "X_new2.shape"
   ]
  },
  {
   "cell_type": "markdown",
   "metadata": {},
   "source": [
    "### Logistic Regression with top 19 features"
   ]
  },
  {
   "cell_type": "code",
   "execution_count": 111,
   "metadata": {
    "collapsed": false
   },
   "outputs": [
    {
     "name": "stdout",
     "output_type": "stream",
     "text": [
      "LogisticRegression(C=0.5, class_weight=None, dual=False, fit_intercept=True,\n",
      "          intercept_scaling=1, max_iter=100, multi_class='ovr', n_jobs=1,\n",
      "          penalty='l1', random_state=None, solver='liblinear', tol=0.0001,\n",
      "          verbose=0, warm_start=False)\n",
      "{'penalty': 'l1', 'C': 0.5}\n",
      "0.726782831893\n"
     ]
    }
   ],
   "source": [
    "param_grid = dict(penalty=['l1','l2'], C =[.1, .5,1,2,5,10])\n",
    "\n",
    "cv = GridSearchCV(LogisticRegression(), param_grid, scoring = 'roc_auc', cv=20)\n",
    "\n",
    "cv.fit(X_new2, y_train)\n",
    "\n",
    "print cv.best_estimator_\n",
    "print cv.best_params_\n",
    "print cv.best_score_"
   ]
  },
  {
   "cell_type": "markdown",
   "metadata": {},
   "source": [
    "This is actually doing WORSE than the top 14 features.  Oh well.\n",
    "\n",
    "### SVM with top 19 features"
   ]
  },
  {
   "cell_type": "code",
   "execution_count": 112,
   "metadata": {
    "collapsed": false
   },
   "outputs": [
    {
     "name": "stdout",
     "output_type": "stream",
     "text": [
      "SVC(C=3, cache_size=200, class_weight=None, coef0=0.0,\n",
      "  decision_function_shape=None, degree=3, gamma='auto', kernel='rbf',\n",
      "  max_iter=3000, probability=False, random_state=None, shrinking=True,\n",
      "  tol=0.001, verbose=False)\n",
      "{'kernel': 'rbf', 'C': 3}\n",
      "0.746091971202\n"
     ]
    }
   ],
   "source": [
    "param_grid = dict(C=[1,1.5,3], kernel=['linear', 'rbf'])\n",
    "\n",
    "# Keep cv at 3\n",
    "cv = GridSearchCV(SVC(max_iter=3000), param_grid, scoring='roc_auc')\n",
    "cv.fit(X_train_clean, y_train)\n",
    "\n",
    "print cv.best_estimator_ \n",
    "print cv.best_params_\n",
    "print cv.best_score_"
   ]
  },
  {
   "cell_type": "markdown",
   "metadata": {},
   "source": [
    "*Shrugs*\n",
    "\n",
    "RFC on all features still produces best model.  C'est la vie."
   ]
  },
  {
   "cell_type": "code",
   "execution_count": 18,
   "metadata": {
    "collapsed": true
   },
   "outputs": [],
   "source": [
    "best_num_model = RandomForestClassifier(min_samples_split=5, n_estimators=100).fit(X_train_clean, y_train)"
   ]
  },
  {
   "cell_type": "markdown",
   "metadata": {},
   "source": [
    "## Predict label from article text and title"
   ]
  },
  {
   "cell_type": "code",
   "execution_count": 19,
   "metadata": {
    "collapsed": true
   },
   "outputs": [],
   "source": [
    "def make_dict(X):\n",
    "    return json.loads(X)\n",
    "X_train.boilerplate = X_train.boilerplate.apply(make_dict)\n",
    "X_test.boilerplate = X_test.boilerplate.apply(make_dict)"
   ]
  },
  {
   "cell_type": "code",
   "execution_count": 41,
   "metadata": {
    "collapsed": false
   },
   "outputs": [],
   "source": [
    "# Save titles and bodies of text from X_train and X_test boilerplate\n",
    "\n",
    "def get_title(x):\n",
    "    try:\n",
    "        return x['title']\n",
    "    except: return ''\n",
    "    \n",
    "X_train_title = X_train.boilerplate.apply(get_title)\n",
    "X_test_title = X_test.boilerplate.apply(get_title)\n",
    "\n",
    "X_train_title = X_train_title.replace(np.nan, '')\n",
    "X_test_title = X_test_title.replace(np.nan, '')\n",
    "\n",
    "X_train_body = X_train.boilerplate.apply(lambda x: x['body'])\n",
    "X_test_body = X_test.boilerplate.apply(lambda x: x['body'])\n",
    "\n",
    "X_train_body = X_train_body.replace(np.nan, '')\n",
    "X_test_body = X_test_body.replace(np.nan, '')"
   ]
  },
  {
   "cell_type": "markdown",
   "metadata": {},
   "source": [
    "### Compare tfidf and count vectorization"
   ]
  },
  {
   "cell_type": "code",
   "execution_count": 114,
   "metadata": {
    "collapsed": false
   },
   "outputs": [
    {
     "data": {
      "text/plain": [
       "0.83365892253357199"
      ]
     },
     "execution_count": 114,
     "metadata": {},
     "output_type": "execute_result"
    }
   ],
   "source": [
    "pipe = make_pipeline(CountVectorizer(stop_words='english'), MultinomialNB())\n",
    "cross_val_score(pipe, X_train_body, y_train, cv=10, scoring='roc_auc').mean()"
   ]
  },
  {
   "cell_type": "code",
   "execution_count": 115,
   "metadata": {
    "collapsed": false
   },
   "outputs": [
    {
     "data": {
      "text/plain": [
       "0.86621317767230488"
      ]
     },
     "execution_count": 115,
     "metadata": {},
     "output_type": "execute_result"
    }
   ],
   "source": [
    "pipe = make_pipeline(TfidfVectorizer(stop_words='english'), MultinomialNB())\n",
    "cross_val_score(pipe, X_train_body, y_train, cv=10, scoring='roc_auc').mean()"
   ]
  },
  {
   "cell_type": "markdown",
   "metadata": {},
   "source": [
    "### Grid search optimal ngram range, max_df, and min_df for tfidf vectorizer with Multinomial NB"
   ]
  },
  {
   "cell_type": "code",
   "execution_count": 27,
   "metadata": {
    "collapsed": false
   },
   "outputs": [
    {
     "name": "stdout",
     "output_type": "stream",
     "text": [
      "Pipeline(steps=[('vec', CountVectorizer(analyzer=u'word', binary=False, decode_error=u'strict',\n",
      "        dtype=<type 'numpy.int64'>, encoding=u'utf-8', input=u'content',\n",
      "        lowercase=True, max_df=100, max_features=None, min_df=1,\n",
      "        ngram_range=(1, 1), preprocessor=None, stop_words='english',\n",
      "        strip_accents=None, token_pattern=u'(?u)\\\\b\\\\w\\\\w+\\\\b',\n",
      "        tokenizer=None, vocabulary=None)), ('NB', MultinomialNB(alpha=1.0, class_prior=None, fit_prior=True))])\n",
      "{'vec__max_df': 100, 'vec__ngram_range': (1, 1)}\n",
      "0.839631531213\n"
     ]
    }
   ],
   "source": [
    "# Grid search n-gram range\n",
    "\n",
    "param_grid = dict(vec__ngram_range=[(1, i) for i in range(1,5)], vec__max_df=[1,20,50,100])\n",
    "vec = CountVectorizer(stop_words='english')\n",
    "\n",
    "NB = MultinomialNB()\n",
    "\n",
    "pipe = Pipeline(steps=[('vec', vec), ('NB', NB)])\n",
    "\n",
    "\n",
    "cv = GridSearchCV(pipe, param_grid, scoring = 'roc_auc')\n",
    "\n",
    "cv.fit(X_train_body, y_train)\n",
    "\n",
    "print cv.best_estimator_\n",
    "print cv.best_params_\n",
    "print cv.best_score_"
   ]
  },
  {
   "cell_type": "markdown",
   "metadata": {},
   "source": [
    "### Classify text with SVM"
   ]
  },
  {
   "cell_type": "code",
   "execution_count": 116,
   "metadata": {
    "collapsed": false
   },
   "outputs": [
    {
     "name": "stderr",
     "output_type": "stream",
     "text": [
      "//anaconda/lib/python2.7/site-packages/sklearn/svm/base.py:224: ConvergenceWarning: Solver terminated early (max_iter=2000).  Consider pre-processing your data with StandardScaler or MinMaxScaler.\n",
      "  % self.max_iter, ConvergenceWarning)\n"
     ]
    },
    {
     "name": "stdout",
     "output_type": "stream",
     "text": [
      "Pipeline(steps=[('vec', TfidfVectorizer(analyzer=u'word', binary=False, decode_error=u'strict',\n",
      "        dtype=<type 'numpy.int64'>, encoding=u'utf-8', input=u'content',\n",
      "        lowercase=True, max_df=100, max_features=None, min_df=1,\n",
      "        ngram_range=(1, 1), norm=u'l2', preprocessor=None, smooth_idf=True,...  max_iter=2000, probability=False, random_state=None, shrinking=True,\n",
      "  tol=0.001, verbose=False))])\n",
      "{'vec__max_df': 100, 'svc__kernel': 'rbf', 'svc__C': 3}\n",
      "0.858702285862\n"
     ]
    }
   ],
   "source": [
    "param_grid = dict(svc__C=[1,1.5,2,3], svc__kernel=['rbf', 'linear'], vec__max_df=[1,20,50,100])\n",
    "vec = TfidfVectorizer(stop_words='english')\n",
    "\n",
    "svc = SVC(max_iter=2000)\n",
    "\n",
    "pipe = Pipeline(steps=[('vec', vec), ('svc', svc)])\n",
    "\n",
    "\n",
    "cv = GridSearchCV(pipe, param_grid, scoring = 'roc_auc', cv=10)\n",
    "\n",
    "cv.fit(X_train_body, y_train)\n",
    "\n",
    "print cv.best_estimator_\n",
    "print cv.best_params_\n",
    "print cv.best_score_"
   ]
  },
  {
   "cell_type": "markdown",
   "metadata": {},
   "source": [
    "### Classify text with random forest"
   ]
  },
  {
   "cell_type": "code",
   "execution_count": 29,
   "metadata": {
    "collapsed": false
   },
   "outputs": [
    {
     "name": "stdout",
     "output_type": "stream",
     "text": [
      "Pipeline(steps=[('vec', CountVectorizer(analyzer=u'word', binary=False, decode_error=u'strict',\n",
      "        dtype=<type 'numpy.int64'>, encoding=u'utf-8', input=u'content',\n",
      "        lowercase=True, max_df=100, max_features=None, min_df=1,\n",
      "        ngram_range=(1, 1), preprocessor=None, stop_words='english',\n",
      "      ...n_jobs=1,\n",
      "            oob_score=False, random_state=None, verbose=0,\n",
      "            warm_start=False))])\n",
      "{'rfc__min_samples_split': 5, 'vec__max_df': 100}\n",
      "0.85436527997\n"
     ]
    }
   ],
   "source": [
    "param_grid = dict(vec__max_df=[1,20,50,100], rfc__min_samples_split=[2,5,10,20])\n",
    "vec = CountVectorizer(stop_words='english')\n",
    "\n",
    "rfc = RandomForestClassifier(n_estimators=50)\n",
    "\n",
    "pipe = Pipeline(steps=[('vec', vec), ('rfc', rfc)])\n",
    "\n",
    "cv = GridSearchCV(pipe, param_grid, scoring = 'roc_auc')\n",
    "\n",
    "cv.fit(X_train_body, y_train)\n",
    "\n",
    "print cv.best_estimator_\n",
    "print cv.best_params_\n",
    "print cv.best_score_"
   ]
  },
  {
   "cell_type": "markdown",
   "metadata": {},
   "source": [
    "### Classify text with logistic regression"
   ]
  },
  {
   "cell_type": "code",
   "execution_count": 117,
   "metadata": {
    "collapsed": false
   },
   "outputs": [
    {
     "name": "stdout",
     "output_type": "stream",
     "text": [
      "Pipeline(steps=[('vec', TfidfVectorizer(analyzer=u'word', binary=False, decode_error=u'strict',\n",
      "        dtype=<type 'numpy.int64'>, encoding=u'utf-8', input=u'content',\n",
      "        lowercase=True, max_df=100, max_features=None, min_df=1,\n",
      "        ngram_range=(1, 1), norm=u'l2', preprocessor=None, smooth_idf=True,...ty='l2', random_state=None, solver='liblinear', tol=0.0001,\n",
      "          verbose=0, warm_start=False))])\n",
      "{'vec__max_df': 100, 'lr__C': 0.5}\n",
      "0.86265860498\n"
     ]
    }
   ],
   "source": [
    "param_grid = dict(vec__max_df=[1,20,50,100],lr__C=[.1,.5,1,3,5])\n",
    "vec = TfidfVectorizer(stop_words='english')\n",
    "\n",
    "lr = LogisticRegression()\n",
    "\n",
    "pipe = Pipeline(steps=[('vec', vec), ('lr', lr)])\n",
    "\n",
    "\n",
    "cv = GridSearchCV(pipe, param_grid, scoring = 'roc_auc', cv=10)\n",
    "\n",
    "cv.fit(X_train_body, y_train)\n",
    "\n",
    "print cv.best_estimator_\n",
    "print cv.best_params_\n",
    "print cv.best_score_"
   ]
  },
  {
   "cell_type": "code",
   "execution_count": 42,
   "metadata": {
    "collapsed": true
   },
   "outputs": [],
   "source": [
    "best_text_model = make_pipeline(TfidfVectorizer(stop_words='english'), MultinomialNB())"
   ]
  },
  {
   "cell_type": "markdown",
   "metadata": {},
   "source": [
    "## Classify Titles"
   ]
  },
  {
   "cell_type": "code",
   "execution_count": 118,
   "metadata": {
    "collapsed": false
   },
   "outputs": [
    {
     "data": {
      "text/plain": [
       "0.83963451572825998"
      ]
     },
     "execution_count": 118,
     "metadata": {},
     "output_type": "execute_result"
    }
   ],
   "source": [
    "pipe = make_pipeline(CountVectorizer(stop_words='english', ngram_range=(1,1)), MultinomialNB())\n",
    "cross_val_score(pipe, X_train_title, y_train, cv=10, scoring='roc_auc').mean()"
   ]
  },
  {
   "cell_type": "code",
   "execution_count": 119,
   "metadata": {
    "collapsed": false
   },
   "outputs": [
    {
     "data": {
      "text/plain": [
       "0.84540643438980045"
      ]
     },
     "execution_count": 119,
     "metadata": {},
     "output_type": "execute_result"
    }
   ],
   "source": [
    "pipe = make_pipeline(TfidfVectorizer(stop_words='english', ngram_range=(1,1)), MultinomialNB())\n",
    "cross_val_score(pipe, X_train_title, y_train, cv=10, scoring='roc_auc').mean()"
   ]
  },
  {
   "cell_type": "code",
   "execution_count": 122,
   "metadata": {
    "collapsed": false
   },
   "outputs": [
    {
     "name": "stdout",
     "output_type": "stream",
     "text": [
      "Pipeline(steps=[('vec', TfidfVectorizer(analyzer=u'word', binary=False, decode_error=u'strict',\n",
      "        dtype=<type 'numpy.int64'>, encoding=u'utf-8', input=u'content',\n",
      "        lowercase=True, max_df=100, max_features=None, min_df=1,\n",
      "        ngram_range=(1, 3), norm=u'l2', preprocessor=None, smooth_idf=True,...True,\n",
      "        vocabulary=None)), ('NB', MultinomialNB(alpha=1.0, class_prior=None, fit_prior=True))])\n",
      "{'vec__max_df': 100, 'vec__ngram_range': (1, 3)}\n",
      "0.835388562557\n"
     ]
    }
   ],
   "source": [
    "# Grid search n-gram range and max_df\n",
    "\n",
    "param_grid = dict(vec__ngram_range=[(1, i) for i in range(1,5)], vec__max_df=[1,20,50,100])\n",
    "vec = TfidfVectorizer(stop_words='english')\n",
    "\n",
    "NB = MultinomialNB()\n",
    "\n",
    "pipe = Pipeline(steps=[('vec', vec), ('NB', NB)])\n",
    "\n",
    "\n",
    "cv = GridSearchCV(pipe, param_grid, scoring = 'roc_auc', cv=10)\n",
    "\n",
    "cv.fit(X_train_title, y_train)\n",
    "\n",
    "print cv.best_estimator_\n",
    "print cv.best_params_\n",
    "print cv.best_score_"
   ]
  },
  {
   "cell_type": "markdown",
   "metadata": {},
   "source": [
    "### Classify titles with SVM"
   ]
  },
  {
   "cell_type": "code",
   "execution_count": 34,
   "metadata": {
    "collapsed": false
   },
   "outputs": [
    {
     "name": "stdout",
     "output_type": "stream",
     "text": [
      "Pipeline(steps=[('vec', TfidfVectorizer(analyzer=u'word', binary=False, decode_error=u'strict',\n",
      "        dtype=<type 'numpy.int64'>, encoding=u'utf-8', input=u'content',\n",
      "        lowercase=True, max_df=100, max_features=None, min_df=1,\n",
      "        ngram_range=(1, 1), norm=u'l2', preprocessor=None, smooth_idf=True,...,\n",
      "  max_iter=-1, probability=False, random_state=None, shrinking=True,\n",
      "  tol=0.001, verbose=False))])\n",
      "{'vec__max_df': 100, 'svc__kernel': 'rbf', 'svc__C': 3}\n",
      "0.825221279008\n"
     ]
    }
   ],
   "source": [
    "param_grid = dict(svc__C=[1,1.5,2,3], svc__kernel=['rbf', 'linear'], vec__max_df=[1,20,50,100])\n",
    "vec = TfidfVectorizer(stop_words='english')\n",
    "\n",
    "svc = SVC(max_iter=10)\n",
    "\n",
    "pipe = Pipeline(steps=[('vec', vec), ('svc', svc)])\n",
    "\n",
    "\n",
    "cv = GridSearchCV(pipe, param_grid, scoring = 'roc_auc', cv=10)\n",
    "\n",
    "cv.fit(X_train_title, y_train)\n",
    "\n",
    "print cv.best_estimator_\n",
    "print cv.best_params_\n",
    "print cv.best_score_"
   ]
  },
  {
   "cell_type": "markdown",
   "metadata": {},
   "source": [
    "### Classify titles with random forest"
   ]
  },
  {
   "cell_type": "code",
   "execution_count": 35,
   "metadata": {
    "collapsed": false
   },
   "outputs": [
    {
     "name": "stdout",
     "output_type": "stream",
     "text": [
      "Pipeline(steps=[('vec', CountVectorizer(analyzer=u'word', binary=False, decode_error=u'strict',\n",
      "        dtype=<type 'numpy.int64'>, encoding=u'utf-8', input=u'content',\n",
      "        lowercase=True, max_df=100, max_features=None, min_df=1,\n",
      "        ngram_range=(1, 1), preprocessor=None, stop_words='english',\n",
      "      ...n_jobs=1,\n",
      "            oob_score=False, random_state=None, verbose=0,\n",
      "            warm_start=False))])\n",
      "{'rfc__min_samples_split': 5, 'vec__max_df': 100}\n",
      "0.806155202432\n"
     ]
    }
   ],
   "source": [
    "param_grid = dict(vec__max_df=[1,20,50,100], rfc__min_samples_split=[2,5,10,20])\n",
    "vec = CountVectorizer(stop_words='english')\n",
    "\n",
    "rfc = RandomForestClassifier(n_estimators=50)\n",
    "\n",
    "pipe = Pipeline(steps=[('vec', vec), ('rfc', rfc)])\n",
    "\n",
    "cv = GridSearchCV(pipe, param_grid, scoring = 'roc_auc', cv=10)\n",
    "\n",
    "cv.fit(X_train_title, y_train)\n",
    "\n",
    "print cv.best_estimator_\n",
    "print cv.best_params_\n",
    "print cv.best_score_"
   ]
  },
  {
   "cell_type": "markdown",
   "metadata": {},
   "source": [
    "### Classify titles with logistic regression"
   ]
  },
  {
   "cell_type": "code",
   "execution_count": 124,
   "metadata": {
    "collapsed": false
   },
   "outputs": [
    {
     "name": "stdout",
     "output_type": "stream",
     "text": [
      "Pipeline(steps=[('vec', TfidfVectorizer(analyzer=u'word', binary=False, decode_error=u'strict',\n",
      "        dtype=<type 'numpy.int64'>, encoding=u'utf-8', input=u'content',\n",
      "        lowercase=True, max_df=100, max_features=None, min_df=1,\n",
      "        ngram_range=(1, 1), norm=u'l2', preprocessor=None, smooth_idf=True,...ty='l2', random_state=None, solver='liblinear', tol=0.0001,\n",
      "          verbose=0, warm_start=False))])\n",
      "{'vec__max_df': 100, 'lr__C': 0.5}\n",
      "0.86265860498\n"
     ]
    }
   ],
   "source": [
    "param_grid = dict(vec__max_df=[1,20,50,100],lr__C=[.1,.5,1,3,5])\n",
    "vec = TfidfVectorizer(stop_words='english')\n",
    "\n",
    "lr = LogisticRegression()\n",
    "\n",
    "pipe = Pipeline(steps=[('vec', vec), ('lr', lr)])\n",
    "\n",
    "\n",
    "cv = GridSearchCV(pipe, param_grid, scoring = 'roc_auc', cv=10)\n",
    "\n",
    "cv.fit(X_train_body, y_train)\n",
    "\n",
    "print cv.best_estimator_\n",
    "print cv.best_params_\n",
    "print cv.best_score_"
   ]
  },
  {
   "cell_type": "code",
   "execution_count": 22,
   "metadata": {
    "collapsed": false
   },
   "outputs": [],
   "source": [
    "best_title_model = make_pipeline(TfidfVectorizer(stop_words='english', max_df=100), LogisticRegression(C=.5))"
   ]
  },
  {
   "cell_type": "markdown",
   "metadata": {},
   "source": [
    "## Combine best analysis of numerical data with text analysis"
   ]
  },
  {
   "cell_type": "code",
   "execution_count": 23,
   "metadata": {
    "collapsed": true
   },
   "outputs": [],
   "source": [
    "# Build custom transformers to preprocess data so all three analyses can be pipelined from X_train\n",
    "\n",
    "class NumClean(BaseEstimator, TransformerMixin):\n",
    "    \"\"\"Clean up numerical features, create dummies, and drop text\"\"\"\n",
    "\n",
    "    def fit(self, x, y=None):\n",
    "        return self\n",
    "\n",
    "    def transform(self, X):\n",
    "        return cleanup(X)\n",
    "    \n",
    "class BodyClean(BaseEstimator, TransformerMixin):\n",
    "    \"\"\"Clean up numerical features, create dummies, and drop text\"\"\"\n",
    "\n",
    "    def fit(self, x, y=None):\n",
    "        return self\n",
    "\n",
    "    def transform(self, X):\n",
    "        body = X.boilerplate.apply(lambda x: x['body'])\n",
    "        body = body.replace(np.nan, '')\n",
    "        return body\n",
    "    \n",
    "class TitleClean(BaseEstimator, TransformerMixin):\n",
    "    \"\"\"Clean up numerical features, create dummies, and drop text\"\"\"\n",
    "\n",
    "    def fit(self, x, y=None):\n",
    "        return self\n",
    "\n",
    "    def transform(self, X):\n",
    "        title = X.boilerplate.apply(get_title)\n",
    "        title = title.replace(np.nan, '')\n",
    "        return title\n",
    "\n"
   ]
  },
  {
   "cell_type": "code",
   "execution_count": 24,
   "metadata": {
    "collapsed": false
   },
   "outputs": [],
   "source": [
    "# Rewrite each best model as a pipeline with required preprocessing\n",
    "\n",
    "modelA =  Pipeline(steps=[('clean', NumClean()), ('model', best_num_model)])\n",
    "modelB =  Pipeline(steps=[('clean', BodyClean()), ('model', best_text_model)])\n",
    "modelC =  Pipeline(steps=[('clean', TitleClean()), ('model', best_title_model)])"
   ]
  },
  {
   "cell_type": "code",
   "execution_count": 25,
   "metadata": {
    "collapsed": false
   },
   "outputs": [],
   "source": [
    "eclf = VotingClassifier(estimators=[('numerical', modelA), ('body', modelB),\n",
    "                                    ('title', modelC)],\n",
    "                        voting='soft', weights=[1, 2, 1])"
   ]
  },
  {
   "cell_type": "code",
   "execution_count": 28,
   "metadata": {
    "collapsed": false
   },
   "outputs": [],
   "source": [
    "cv = cross_val_score(eclf, X_train, y_train, cv=5, scoring='roc_auc')"
   ]
  },
  {
   "cell_type": "code",
   "execution_count": 29,
   "metadata": {
    "collapsed": false
   },
   "outputs": [
    {
     "data": {
      "text/plain": [
       "0.87176064219617599"
      ]
     },
     "execution_count": 29,
     "metadata": {},
     "output_type": "execute_result"
    }
   ],
   "source": [
    "cv.mean()"
   ]
  },
  {
   "cell_type": "markdown",
   "metadata": {},
   "source": [
    "Nice!  The voting classifier outperforms my strongest model!  Can I refine it further by optimizing weights?"
   ]
  },
  {
   "cell_type": "code",
   "execution_count": 30,
   "metadata": {
    "collapsed": false
   },
   "outputs": [
    {
     "name": "stdout",
     "output_type": "stream",
     "text": [
      "VotingClassifier(estimators=[('numerical', Pipeline(steps=[('clean', NumClean()), ('model', RandomForestClassifier(bootstrap=True, class_weight=None, criterion='gini',\n",
      "            max_depth=None, max_features='auto', max_leaf_nodes=None,\n",
      "            min_samples_leaf=1, min_samples_split=5,\n",
      "            min_weight_fra...', random_state=None, solver='liblinear', tol=0.0001,\n",
      "          verbose=0, warm_start=False))]))]))],\n",
      "         voting='soft', weights=[1, 2, 1])\n",
      "{'weights': [1, 2, 1]}\n",
      "0.871717904102\n"
     ]
    }
   ],
   "source": [
    "param_grid = dict(weights=[[1,1,1],[1,2,1],[1,3,1],[1,10,1],[2,3,2]])\n",
    "\n",
    "eclf = VotingClassifier(estimators=[('numerical', modelA), ('body', modelB),\n",
    "                                    ('title', modelC)], voting='soft')\n",
    "\n",
    "cv = GridSearchCV(eclf, param_grid, scoring = 'roc_auc', cv=20)\n",
    "\n",
    "cv.fit(X_train, y_train)\n",
    "\n",
    "print cv.best_estimator_\n",
    "print cv.best_params_\n",
    "print cv.best_score_"
   ]
  },
  {
   "cell_type": "code",
   "execution_count": 31,
   "metadata": {
    "collapsed": true
   },
   "outputs": [],
   "source": [
    "# Save best model\n",
    "\n",
    "winner = cv.best_estimator_"
   ]
  },
  {
   "cell_type": "code",
   "execution_count": 49,
   "metadata": {
    "collapsed": false
   },
   "outputs": [],
   "source": [
    "y_pred_proba = winner.predict_proba(X_test)"
   ]
  },
  {
   "cell_type": "code",
   "execution_count": 52,
   "metadata": {
    "collapsed": false
   },
   "outputs": [
    {
     "data": {
      "text/plain": [
       "array([[ 0.74053543,  0.25946457],\n",
       "       [ 0.16651329,  0.83348671],\n",
       "       [ 0.74739685,  0.25260315],\n",
       "       ..., \n",
       "       [ 0.20330532,  0.79669468],\n",
       "       [ 0.77147221,  0.22852779],\n",
       "       [ 0.5431542 ,  0.4568458 ]])"
      ]
     },
     "execution_count": 52,
     "metadata": {},
     "output_type": "execute_result"
    }
   ],
   "source": [
    "y_pred_proba"
   ]
  },
  {
   "cell_type": "code",
   "execution_count": 55,
   "metadata": {
    "collapsed": false
   },
   "outputs": [
    {
     "data": {
      "text/plain": [
       "(1849, 37)"
      ]
     },
     "execution_count": 55,
     "metadata": {},
     "output_type": "execute_result"
    }
   ],
   "source": [
    "X_test.shape"
   ]
  },
  {
   "cell_type": "code",
   "execution_count": 56,
   "metadata": {
    "collapsed": false
   },
   "outputs": [
    {
     "data": {
      "text/plain": [
       "(1849,)"
      ]
     },
     "execution_count": 56,
     "metadata": {},
     "output_type": "execute_result"
    }
   ],
   "source": [
    "y_test.shape"
   ]
  },
  {
   "cell_type": "code",
   "execution_count": 61,
   "metadata": {
    "collapsed": false
   },
   "outputs": [
    {
     "data": {
      "text/plain": [
       "0.85549924050751414"
      ]
     },
     "execution_count": 61,
     "metadata": {},
     "output_type": "execute_result"
    }
   ],
   "source": [
    "metrics.roc_auc_score(y_test, y_pred_proba[:,1])"
   ]
  },
  {
   "cell_type": "markdown",
   "metadata": {
    "collapsed": false
   },
   "source": [
    "This score is a little disappointing, given CV scores on training set.  \n",
    "\n",
    "Just for fun, let's test our best text classification model and see how that did."
   ]
  },
  {
   "cell_type": "code",
   "execution_count": 64,
   "metadata": {
    "collapsed": false
   },
   "outputs": [
    {
     "data": {
      "text/plain": [
       "Pipeline(steps=[('clean', BodyClean()), ('model', Pipeline(steps=[('tfidfvectorizer', TfidfVectorizer(analyzer=u'word', binary=False, decode_error=u'strict',\n",
       "        dtype=<type 'numpy.int64'>, encoding=u'utf-8', input=u'content',\n",
       "        lowercase=True, max_df=1.0, max_features=None, min_df=1,\n",
       "        ngram_range=(1, 1), norm=u'l2', preprocessor=None, smoo...   vocabulary=None)), ('multinomialnb', MultinomialNB(alpha=1.0, class_prior=None, fit_prior=True))]))])"
      ]
     },
     "execution_count": 64,
     "metadata": {},
     "output_type": "execute_result"
    }
   ],
   "source": [
    "modelB.fit(X_train, y_train)"
   ]
  },
  {
   "cell_type": "code",
   "execution_count": 65,
   "metadata": {
    "collapsed": false
   },
   "outputs": [],
   "source": [
    "y_pred_proba = modelB.predict_proba(X_test)"
   ]
  },
  {
   "cell_type": "code",
   "execution_count": 66,
   "metadata": {
    "collapsed": false
   },
   "outputs": [
    {
     "data": {
      "text/plain": [
       "0.84535492523270428"
      ]
     },
     "execution_count": 66,
     "metadata": {},
     "output_type": "execute_result"
    }
   ],
   "source": [
    "metrics.roc_auc_score(y_test, y_pred_proba[:,1])"
   ]
  },
  {
   "cell_type": "markdown",
   "metadata": {},
   "source": [
    "Maybe this is just an unfavorable split.  Voting classifier did outperform best text classification model, both just did a little worse than we might have expected from CV.  Oh well."
   ]
  }
 ],
 "metadata": {
  "kernelspec": {
   "display_name": "Python 2",
   "language": "python",
   "name": "python2"
  },
  "language_info": {
   "codemirror_mode": {
    "name": "ipython",
    "version": 2
   },
   "file_extension": ".py",
   "mimetype": "text/x-python",
   "name": "python",
   "nbconvert_exporter": "python",
   "pygments_lexer": "ipython2",
   "version": "2.7.11"
  }
 },
 "nbformat": 4,
 "nbformat_minor": 0
}
